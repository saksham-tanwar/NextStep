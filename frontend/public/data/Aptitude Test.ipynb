{
 "cells": [
  {
   "cell_type": "code",
   "execution_count": 3,
   "id": "4ef51889-982d-412f-8408-70cb81b96172",
   "metadata": {},
   "outputs": [
    {
     "name": "stdout",
     "output_type": "stream",
     "text": [
      "Welcome to the Aptitude Test! Please answer with A, B, C, D, or E.\n",
      "This will help suggest a career stream based on your interests.\n",
      "\n",
      "Question 1/10: What role do you naturally play in a group project?\n",
      "  A: The researcher who gathers and verifies data\n",
      "  B: The communicator and designer who shapes the narrative and visuals\n",
      "  C: The manager who sets deadlines and manages the budget\n",
      "  D: The tech expert who handles the digital tools and software\n",
      "  E: The implementer who does the hands-on work to bring the idea to life\n"
     ]
    },
    {
     "name": "stdin",
     "output_type": "stream",
     "text": [
      "Your choice:  a\n"
     ]
    },
    {
     "name": "stdout",
     "output_type": "stream",
     "text": [
      "--------------------\n",
      "Question 2/10: If you received a large grant, how would you use it?\n",
      "  A: To fund a scientific research project\n",
      "  B: To establish a non-profit for social change or produce an independent film\n",
      "  C: To invest in a promising new business venture\n",
      "  D: To start a tech company to build a new app\n",
      "  E: To open a community workshop or a training center\n"
     ]
    },
    {
     "name": "stdin",
     "output_type": "stream",
     "text": [
      "Your choice:  e\n"
     ]
    },
    {
     "name": "stdout",
     "output_type": "stream",
     "text": [
      "--------------------\n",
      "Question 3/10: When facing a complex problem, what is your first instinct?\n",
      "  A: Break it down and analyze it systematically\n",
      "  B: Consider its human impact and brainstorm creative or ethical solutions\n",
      "  C: Assess the risks and potential return on investment\n",
      "  D: Write a script or algorithm to automate a solution\n",
      "  E: Start building or tinkering with a practical prototype\n"
     ]
    },
    {
     "name": "stdin",
     "output_type": "stream",
     "text": [
      "Your choice:  e\n"
     ]
    },
    {
     "name": "stdout",
     "output_type": "stream",
     "text": [
      "--------------------\n",
      "Question 4/10: Which task would you find least boring?\n",
      "  A: Spending hours meticulously analyzing a dataset\n",
      "  B: Spending hours in an archive or practicing a creative skill\n",
      "  C: Spending hours analyzing financial reports and market data\n",
      "  D: Spending hours debugging a large and complex codebase\n",
      "  E: Spending hours carefully assembling a complicated piece of machinery\n"
     ]
    },
    {
     "name": "stdin",
     "output_type": "stream",
     "text": [
      "Your choice:  a\n"
     ]
    },
    {
     "name": "stdout",
     "output_type": "stream",
     "text": [
      "--------------------\n",
      "Question 5/10: What would you prefer to create?\n",
      "  A: A new scientific theory or a working experiment\n",
      "  B: A well-argued essay, a social policy, or a piece of art\n",
      "  C: A successful business plan or a profitable investment portfolio\n",
      "  D: A useful software application or a complex website\n",
      "  E: A piece of furniture, a delicious meal, or a well-maintained garden\n"
     ]
    },
    {
     "name": "stdin",
     "output_type": "stream",
     "text": [
      "Your choice:  d\n"
     ]
    },
    {
     "name": "stdout",
     "output_type": "stream",
     "text": [
      "--------------------\n",
      "Question 6/10: Your ideal vacation involves...\n",
      "  A: A trip to a natural wonder to observe its unique ecosystem\n",
      "  B: Exploring ancient ruins or the world's great art museums\n",
      "  C: Visiting a global financial hub like New York or Tokyo\n",
      "  D: Attending a major tech conference or a coding bootcamp\n",
      "  E: A hands-on workshop to learn a new skill like pottery or cooking\n"
     ]
    },
    {
     "name": "stdin",
     "output_type": "stream",
     "text": [
      "Your choice:  b\n"
     ]
    },
    {
     "name": "stdout",
     "output_type": "stream",
     "text": [
      "--------------------\n",
      "Question 7/10: A global crisis occurs. What aspect of it interests you most?\n",
      "  A: The scientific data behind it and potential technological solutions\n",
      "  B: The historical precedents and its impact on society and culture\n",
      "  C: The effect on the global economy, supply chains, and markets\n",
      "  D: The role of technology in communication and data tracking during the crisis\n",
      "  E: The immediate, practical needs of the community and how to help\n"
     ]
    },
    {
     "name": "stdin",
     "output_type": "stream",
     "text": [
      "Your choice:  c\n"
     ]
    },
    {
     "name": "stdout",
     "output_type": "stream",
     "text": [
      "--------------------\n",
      "Question 8/10: When you look at a skyscraper, what do you think about?\n",
      "  A: The physics and engineering principles that keep it standing\n",
      "  B: The social impact it has on the neighborhood and its aesthetic design\n",
      "  C: The financial investment and real estate value of the property\n",
      "  D: The smart technology and network infrastructure within the building\n",
      "  E: The immense amount of labor and materials required to build it\n"
     ]
    },
    {
     "name": "stdin",
     "output_type": "stream",
     "text": [
      "Your choice:  a\n"
     ]
    },
    {
     "name": "stdout",
     "output_type": "stream",
     "text": [
      "--------------------\n",
      "Question 9/10: How do you view rules?\n",
      "  A: As natural laws to be discovered and understood\n",
      "  B: As social constructs or creative conventions to be analyzed and challenged\n",
      "  C: As regulations and frameworks necessary for a functioning market\n",
      "  D: As algorithms and protocols that ensure a system works correctly\n",
      "  E: As safety guidelines and best practices for a good result\n"
     ]
    },
    {
     "name": "stdin",
     "output_type": "stream",
     "text": [
      "Your choice:  b\n"
     ]
    },
    {
     "name": "stdout",
     "output_type": "stream",
     "text": [
      "--------------------\n",
      "Question 10/10: How do you prefer to learn new things?\n",
      "  A: Through structured experiments and data analysis\n",
      "  B: Through reading, debating, storytelling, and visual expression\n",
      "  C: Through case studies, financial models, and market analysis\n",
      "  D: Through coding tutorials, documentation, and building projects\n",
      "  E: Through hands-on practice, apprenticeship, and direct experience\n"
     ]
    },
    {
     "name": "stdin",
     "output_type": "stream",
     "text": [
      "Your choice:  e\n"
     ]
    },
    {
     "name": "stdout",
     "output_type": "stream",
     "text": [
      "--------------------\n",
      "\n",
      "--- TEST RESULTS ---\n",
      "Your top category/categories: Science, Vocational (Score: 3/10)\n",
      "\n",
      "--- Details for Science ---\n",
      "Description: You have strong analytical, observational, and problem-solving skills.\n",
      "Suggested Streams: B.Sc. (Physics, Chemistry, Biology, Math), B.Tech/B.E.\n",
      "Career Options: ['Doctor', 'Engineer', 'Scientist', 'Researcher', 'Exams: IIT-JEE, NEET, UPSC (IFS)']\n",
      "Higher Studies: M.Sc., M.Tech, PhD, MBA\n",
      "\n",
      "--- Details for Vocational ---\n",
      "Description: You prefer hands-on, practical skills and real-world application.\n",
      "Suggested Streams: Vocational Diplomas (IT, Hospitality, Agriculture), B.Voc.\n",
      "Career Options: ['Technician', 'Chef', 'Farmer-Entrepreneur', 'Electrician', 'Plumber', 'Govt schemes: PMKVY']\n",
      "Higher Studies: Advanced Certificate courses, Specialized Diplomas\n",
      "\n"
     ]
    }
   ],
   "source": [
    "import json\n",
    "import random\n",
    "\n",
    "# Define categories with 'Arts' and 'Humanities' merged\n",
    "categories = {\n",
    "    'Science': {\n",
    "        'description': 'You have strong analytical, observational, and problem-solving skills.',\n",
    "        'streams': ['B.Sc. (Physics, Chemistry, Biology, Math)', 'B.Tech/B.E.'],\n",
    "        'careers': ['Doctor', 'Engineer', 'Scientist', 'Researcher', 'Exams: IIT-JEE, NEET, UPSC (IFS)'],\n",
    "        'higher_studies': ['M.Sc.', 'M.Tech', 'PhD', 'MBA']\n",
    "    },\n",
    "    'Arts & Humanities': {\n",
    "        'description': 'You are creative, enjoy critical thinking, and understanding human culture and society.',\n",
    "        'streams': ['B.A. (History, Sociology, Literature, Political Science, Fine Arts, Psychology)'],\n",
    "        'careers': ['Lawyer', 'Journalist', 'Teacher', 'Civil Servant', 'Artist', 'Psychologist', 'Exams: UPSC CSE, CLAT'],\n",
    "        'higher_studies': ['M.A.', 'Law (LLB)', 'Journalism Diploma', 'PhD']\n",
    "    },\n",
    "    'Commerce': {\n",
    "        'description': 'You are good with numbers, business, economics, and management.',\n",
    "        'streams': ['B.Com.', 'BBA', 'Economics (Hons)'],\n",
    "        'careers': ['Accountant', 'Banker', 'Entrepreneur', 'Manager', 'Financial Analyst', 'Exams: CA, CS, Bank PO'],\n",
    "        'higher_studies': ['MBA', 'M.Com.', 'Chartered Accountancy (CA)']\n",
    "    },\n",
    "    'Computers': {\n",
    "        'description': 'You are logical, enjoy technology, and excel at algorithmic thinking.',\n",
    "        'streams': ['B.Tech (Computer Science)', 'BCA', 'B.Sc. (IT)'],\n",
    "        'careers': ['Software Developer', 'Data Scientist', 'Cybersecurity Analyst', 'IT Manager', 'AI/ML Engineer'],\n",
    "        'higher_studies': ['M.Tech', 'MCA', 'MS in Computer Science']\n",
    "    },\n",
    "    'Vocational': {\n",
    "        'description': 'You prefer hands-on, practical skills and real-world application.',\n",
    "        'streams': ['Vocational Diplomas (IT, Hospitality, Agriculture)', 'B.Voc.'],\n",
    "        'careers': ['Technician', 'Chef', 'Farmer-Entrepreneur', 'Electrician', 'Plumber', 'Govt schemes: PMKVY'],\n",
    "        'higher_studies': ['Advanced Certificate courses', 'Specialized Diplomas']\n",
    "    }\n",
    "}\n",
    "\n",
    "# Function to extract the category from an option string\n",
    "def get_category(option_str):\n",
    "    return option_str.split('(')[-1].strip(')')\n",
    "\n",
    "# Main function to run the aptitude test\n",
    "def run_aptitude_test():\n",
    "    try:\n",
    "        with open('questions.json', 'r') as f:\n",
    "            data = json.load(f)\n",
    "            all_questions = data['questions']\n",
    "    except FileNotFoundError:\n",
    "        print(\"Error: 'questions.json' file not found. Make sure it's in the same directory.\")\n",
    "        return\n",
    "    except json.JSONDecodeError:\n",
    "        print(\"Error: The 'questions.json' file contains invalid JSON.\")\n",
    "        return\n",
    "\n",
    "    if len(all_questions) < 10:\n",
    "        print(\"Error: Not enough questions in the JSON file. At least 10 are required.\")\n",
    "        return\n",
    "        \n",
    "    questions = random.sample(all_questions, 10)\n",
    "    scores = {category: 0 for category in categories}\n",
    "\n",
    "    print(\"Welcome to the Aptitude Test! Please answer with A, B, C, D, or E.\")\n",
    "    print(\"This will help suggest a career stream based on your interests.\\n\")\n",
    "\n",
    "    for i, q in enumerate(questions, 1):\n",
    "        print(f\"Question {i}/10: {q['text']}\")\n",
    "        for key, value in q['options'].items():\n",
    "            print(f\"  {key}: {value.split(' (')[0]}\")\n",
    "            \n",
    "        answer = input(\"Your choice: \").upper()\n",
    "        while answer not in q['options']:\n",
    "            print(\"Invalid choice. Please enter one of the available letters.\")\n",
    "            answer = input(\"Your choice: \").upper()\n",
    "        \n",
    "        category = get_category(q['options'][answer])\n",
    "        if category in scores:\n",
    "            scores[category] += 1\n",
    "        print(\"-\" * 20)\n",
    "\n",
    "    max_score = 0\n",
    "    if scores:\n",
    "        max_score = max(scores.values())\n",
    "\n",
    "    suggested_categories = [cat for cat, score in scores.items() if score == max_score]\n",
    "\n",
    "    print(\"\\n--- TEST RESULTS ---\")\n",
    "    if not suggested_categories:\n",
    "        print(\"Could not determine a top category. Please try again!\")\n",
    "        return\n",
    "        \n",
    "    print(f\"Your top category/categories: {', '.join(suggested_categories)} (Score: {max_score}/10)\\n\")\n",
    "\n",
    "    for suggested in suggested_categories:\n",
    "        info = categories[suggested]\n",
    "        print(f\"--- Details for {suggested} ---\")\n",
    "        print(f\"Description: {info['description']}\")\n",
    "        print(f\"Suggested Streams: {', '.join(info['streams'])}\")\n",
    "        print(f\"Career Options: {info['careers']}\")\n",
    "        print(f\"Higher Studies: {', '.join(info['higher_studies'])}\\n\")\n",
    "\n",
    "if __name__ == \"__main__\":\n",
    "    run_aptitude_test()"
   ]
  },
  {
   "cell_type": "code",
   "execution_count": null,
   "id": "794ea426-a05c-4bd1-ba17-8f8b348c7356",
   "metadata": {},
   "outputs": [],
   "source": []
  }
 ],
 "metadata": {
  "kernelspec": {
   "display_name": "Python 3 (ipykernel)",
   "language": "python",
   "name": "python3"
  },
  "language_info": {
   "codemirror_mode": {
    "name": "ipython",
    "version": 3
   },
   "file_extension": ".py",
   "mimetype": "text/x-python",
   "name": "python",
   "nbconvert_exporter": "python",
   "pygments_lexer": "ipython3",
   "version": "3.13.5"
  }
 },
 "nbformat": 4,
 "nbformat_minor": 5
}
